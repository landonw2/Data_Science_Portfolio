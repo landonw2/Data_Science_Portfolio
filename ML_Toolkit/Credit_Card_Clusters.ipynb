{
 "cells": [
  {
   "cell_type": "code",
   "execution_count": null,
   "id": "1eb02358",
   "metadata": {},
   "outputs": [],
   "source": [
    "#Loading Libraries\n",
    "import pandas as pd\n",
    "import numpy as np\n",
    "import matplotlib.pyplot as plt\n",
    "from kneed import KneeLocator\n",
    "from sklearn.datasets import make_blobs\n",
    "from sklearn.cluster import KMeans\n",
    "from sklearn.metrics import silhouette_score\n",
    "from sklearn.preprocessing import StandardScaler\n",
    "from sklearn import preprocessing\n",
    "from kmodes.kprototypes import KPrototypes\n",
    "from sklearn.cluster import DBSCAN\n",
    "from sklearn.datasets import make_moons\n",
    "from sklearn.metrics import adjusted_rand_score\n",
    "import tarfile\n",
    "import urllib\n",
    "import sys\n",
    "import numpy\n",
    "import numpy as np\n",
    "import matplotlib.pyplot as plt\n",
    "import pandas as pd\n",
    "import seaborn as sns\n",
    "from sklearn.cluster import KMeans\n",
    "from sklearn.decomposition import PCA\n",
    "from sklearn.metrics import silhouette_score, adjusted_rand_score\n",
    "from sklearn.pipeline import Pipeline\n",
    "from sklearn.preprocessing import LabelEncoder, MinMaxScaler\n",
    "numpy.set_printoptions(threshold=sys.maxsize)"
   ]
  },
  {
   "cell_type": "code",
   "execution_count": null,
   "id": "36704b08",
   "metadata": {},
   "outputs": [],
   "source": [
    "#Reading in Dataset\n",
    "df = pd.read_csv('BankChurners.csv')\n",
    "\n",
    "#Removing unhelpful variables\n",
    "df = df[df.columns[1:21]]\n",
    "\n",
    "#Creating Copy\n",
    "df_norm = df.copy()\n",
    "\n",
    "#One hot encoding for categorical variables\n",
    "df_norm = pd.get_dummies(df_norm, columns=[\"Attrition_Flag\", \"Gender\", \"Education_Level\",\"Marital_Status\", \"Income_Category\", \"Card_Category\"])\n",
    "\n",
    "#Creating data preprocessor class\n",
    "preprocessor = Pipeline(\n",
    "    [\n",
    "        (\"scaler\", MinMaxScaler()),\n",
    "        (\"pca\", PCA(n_components=2, random_state=42)),\n",
    "    ]\n",
    ")\n",
    "\n",
    "\n",
    "#Creating K-means clustering class - 6 clusters\n",
    "clusterer = Pipeline(\n",
    "   [\n",
    "       (\n",
    "           \"kmeans\",\n",
    "           KMeans(\n",
    "               n_clusters=6,\n",
    "               init=\"k-means++\",\n",
    "               n_init=50,\n",
    "               max_iter=500,\n",
    "               random_state=42,\n",
    "           ),\n",
    "       ),\n",
    "   ]\n",
    ")\n",
    "\n",
    "\n",
    "#Consolidating classes to perform clusters\n",
    "pipe = Pipeline(\n",
    "    [\n",
    "        (\"preprocessor\", preprocessor),\n",
    "        (\"clusterer\", clusterer)\n",
    "    ]\n",
    ")\n",
    "\n",
    "\n",
    "#Calling my data for clustering\n",
    "pipe.fit(df_norm)\n"
   ]
  },
  {
   "cell_type": "code",
   "execution_count": null,
   "id": "7eba1dbf",
   "metadata": {},
   "outputs": [],
   "source": [
    "#Calculating Silhouette Score. Closer to 1 means that the clusters are well separated\n",
    "preprocessed_data = pipe[\"preprocessor\"].transform(df_norm)\n",
    "\n",
    "predicted_labels = pipe[\"clusterer\"][\"kmeans\"].labels_\n",
    "\n",
    "silhouette_score(preprocessed_data, predicted_labels)"
   ]
  },
  {
   "cell_type": "code",
   "execution_count": null,
   "id": "4e4ae2ec",
   "metadata": {},
   "outputs": [],
   "source": [
    "#Elbow Plot to determine Optimal # of Clusters\n",
    "wcss = []\n",
    "for i in range(1, 11):\n",
    "    kmeans = KMeans(n_clusters=i, init='k-means++', max_iter=300, n_init=10, random_state=0)\n",
    "    kmeans.fit(preprocessed_data)\n",
    "    wcss.append(kmeans.inertia_)\n",
    "plt.plot(range(1, 11), wcss)\n",
    "plt.title('Elbow Method')\n",
    "plt.xlabel('Number of clusters')\n",
    "plt.ylabel('WCSS')\n",
    "plt.show()"
   ]
  },
  {
   "cell_type": "code",
   "execution_count": null,
   "id": "7eb7b248",
   "metadata": {},
   "outputs": [],
   "source": [
    "#Plotting Clusters\n",
    "pcadf = pd.DataFrame(\n",
    "    pipe[\"preprocessor\"].transform(df_norm),\n",
    "    columns=[\"component_1\", \"component_2\"],\n",
    ")\n",
    "\n",
    "pcadf[\"predicted_cluster\"] = predicted_labels\n",
    "\n",
    "\n",
    "plt.style.use(\"fivethirtyeight\")\n",
    "plt.figure(figsize=(8, 8))\n",
    "\n",
    "scat = sns.scatterplot(\n",
    "    \"component_1\",\n",
    "    \"component_2\",\n",
    "    s=50,\n",
    "    data=pcadf,\n",
    "    hue=\"predicted_cluster\",\n",
    "    palette=\"Set2\",\n",
    ")\n",
    "\n",
    "scat.set_title(\n",
    "    \"Clustering results from Credit Card Customers\"\n",
    ")\n",
    "plt.legend(bbox_to_anchor=(1.05, 1), loc=2, borderaxespad=0.0)\n",
    "\n",
    "plt.show()\n"
   ]
  },
  {
   "cell_type": "code",
   "execution_count": null,
   "id": "3c577038",
   "metadata": {},
   "outputs": [],
   "source": [
    "#Creating Array of Cluster Labels\n",
    "cluster_labels = pipe[\"clusterer\"][\"kmeans\"].labels_\n",
    "\n",
    "#Adding 'cluster' column to df\n",
    "df_norm['cluster'] = cluster_labels.tolist()"
   ]
  },
  {
   "cell_type": "code",
   "execution_count": null,
   "id": "b854c55f",
   "metadata": {},
   "outputs": [],
   "source": [
    "#Viewing Mean for Each Variable\n",
    "df_norm_groupings = df_norm.groupby(['cluster']).mean()"
   ]
  },
  {
   "cell_type": "code",
   "execution_count": null,
   "id": "be25d080",
   "metadata": {},
   "outputs": [],
   "source": []
  },
  {
   "cell_type": "code",
   "execution_count": null,
   "id": "11bd5384",
   "metadata": {},
   "outputs": [],
   "source": [
    "#New Clustering without Demographic "
   ]
  },
  {
   "cell_type": "code",
   "execution_count": null,
   "id": "c0f8d3ef",
   "metadata": {},
   "outputs": [],
   "source": [
    "#Reading in Dataset\n",
    "df = pd.read_csv('BankChurners.csv')\n",
    "\n",
    "#Creating Copy\n",
    "df_norm = df.copy()\n",
    "\n",
    "#Removing unhelpful variables\n",
    "df_norm = df_norm[df_norm.columns[1:21]]\n",
    "\n"
   ]
  },
  {
   "cell_type": "code",
   "execution_count": null,
   "id": "b0c5b7ca",
   "metadata": {},
   "outputs": [],
   "source": [
    "#One Hot Encoding\n",
    "df = pd.get_dummies(df_norm, columns=[\"Attrition_Flag\", \"Gender\", \"Education_Level\",\"Marital_Status\", \"Income_Category\", \"Card_Category\"])"
   ]
  },
  {
   "cell_type": "code",
   "execution_count": null,
   "id": "a8145aa2",
   "metadata": {},
   "outputs": [],
   "source": [
    "#Dropping Demographic Related Variables\n",
    "df_norm.drop(['Attrition_Flag', 'Card_Category', 'Gender', 'Customer_Age', 'Dependent_count', 'Education_Level', 'Marital_Status', 'Income_Category'], axis=1, inplace=True)"
   ]
  },
  {
   "cell_type": "code",
   "execution_count": null,
   "id": "ecf612e4",
   "metadata": {},
   "outputs": [],
   "source": [
    "#Creating data preprocessor class\n",
    "preprocessor = Pipeline(\n",
    "    [\n",
    "        (\"scaler\", MinMaxScaler()),\n",
    "        (\"pca\", PCA(n_components=2, random_state=42)),\n",
    "    ]\n",
    ")\n",
    "\n",
    "\n",
    "#Creating K-means clustering class - 4 Clusters\n",
    "clusterer = Pipeline(\n",
    "   [\n",
    "       (\n",
    "           \"kmeans\",\n",
    "           KMeans(\n",
    "               n_clusters=4,\n",
    "               init=\"k-means++\",\n",
    "               n_init=50,\n",
    "               max_iter=500,\n",
    "               random_state=42,\n",
    "           ),\n",
    "       ),\n",
    "   ]\n",
    ")\n",
    "\n",
    "\n",
    "#Consolidating classes to perform clusters\n",
    "pipe = Pipeline(\n",
    "    [\n",
    "        (\"preprocessor\", preprocessor),\n",
    "        (\"clusterer\", clusterer)\n",
    "    ]\n",
    ")\n",
    "\n",
    "\n",
    "#Calling my data for clustering\n",
    "pipe.fit(df_norm)\n"
   ]
  },
  {
   "cell_type": "code",
   "execution_count": null,
   "id": "a1490b6a",
   "metadata": {},
   "outputs": [],
   "source": [
    "#Calculating Silhouette Score. Closer to 1 means that the clusters are well separated\n",
    "preprocessed_data = pipe[\"preprocessor\"].transform(df_norm)\n",
    "\n",
    "predicted_labels = pipe[\"clusterer\"][\"kmeans\"].labels_\n",
    "\n",
    "silhouette_score(preprocessed_data, predicted_labels)"
   ]
  },
  {
   "cell_type": "code",
   "execution_count": null,
   "id": "c7dc1635",
   "metadata": {},
   "outputs": [],
   "source": [
    "#Elbow Plot to determine Optimal # of Clusters\n",
    "wcss = []\n",
    "for i in range(1, 11):\n",
    "    kmeans = KMeans(n_clusters=i, init='k-means++', max_iter=300, n_init=10, random_state=0)\n",
    "    kmeans.fit(preprocessed_data)\n",
    "    wcss.append(kmeans.inertia_)\n",
    "plt.plot(range(1, 11), wcss)\n",
    "plt.title('Elbow Method')\n",
    "plt.xlabel('Number of clusters')\n",
    "plt.ylabel('WCSS')\n",
    "plt.show()"
   ]
  },
  {
   "cell_type": "code",
   "execution_count": null,
   "id": "66b43635",
   "metadata": {},
   "outputs": [],
   "source": [
    "#Changing Cluster Names\n",
    "predicted_labels = [str(x) for x in predicted_labels]\n",
    "replacements = {'0':'Churning, Inactive Card Users', '1':'Credit Dependent, Highly Active Card Users','2':'Affluent, Inactive Card Users', '3':'The Average, Satisfied Primary Card Users'}\n",
    "replacer = replacements.get\n",
    "predicted_labels = [replacer(n, n) for n in predicted_labels]"
   ]
  },
  {
   "cell_type": "code",
   "execution_count": null,
   "id": "9c77748e",
   "metadata": {},
   "outputs": [],
   "source": [
    "#Plotting Clusters\n",
    "pcadf = pd.DataFrame(\n",
    "    pipe[\"preprocessor\"].transform(df_norm),\n",
    "    columns=[\"component_1\", \"component_2\"],\n",
    ")\n",
    "\n",
    "pcadf[\"predicted_cluster\"] = predicted_labels\n",
    "\n",
    "\n",
    "plt.style.use(\"fivethirtyeight\")\n",
    "plt.figure(figsize=(8, 8))\n",
    "\n",
    "scat = sns.scatterplot(\n",
    "    \"component_1\",\n",
    "    \"component_2\",\n",
    "    s=50,\n",
    "    data=pcadf,\n",
    "    hue=\"predicted_cluster\",\n",
    "    palette=\"Set2\",\n",
    ")\n",
    "\n",
    "scat.set_title(\n",
    "    \"Card User Clusters\"\n",
    ")\n",
    "plt.legend(bbox_to_anchor=(1.05, 1), loc=2, borderaxespad=0.0)\n",
    "\n",
    "plt.show()\n"
   ]
  },
  {
   "cell_type": "code",
   "execution_count": null,
   "id": "0fdf7d72",
   "metadata": {},
   "outputs": [],
   "source": [
    "#Creating Array of Cluster Labels\n",
    "cluster_labels = pipe[\"clusterer\"][\"kmeans\"].labels_\n",
    "\n",
    "#Adding 'cluster' column to df\n",
    "df['cluster'] = cluster_labels.tolist()"
   ]
  },
  {
   "cell_type": "code",
   "execution_count": null,
   "id": "adf69abb",
   "metadata": {},
   "outputs": [],
   "source": [
    "#Viewing Mean for Each Variable\n",
    "df_norm_groupings = df.groupby(['cluster']).mean()"
   ]
  }
 ],
 "metadata": {
  "kernelspec": {
   "display_name": "Python 3 (ipykernel)",
   "language": "python",
   "name": "python3"
  },
  "language_info": {
   "codemirror_mode": {
    "name": "ipython",
    "version": 3
   },
   "file_extension": ".py",
   "mimetype": "text/x-python",
   "name": "python",
   "nbconvert_exporter": "python",
   "pygments_lexer": "ipython3",
   "version": "3.8.8"
  }
 },
 "nbformat": 4,
 "nbformat_minor": 5
}
