{
 "cells": [
  {
   "cell_type": "code",
   "execution_count": null,
   "id": "805d6a28",
   "metadata": {},
   "outputs": [],
   "source": [
    "import pandas as pd\n",
    "from sklearn.tree import DecisionTreeClassifier # Import Decision Tree Classifier\n",
    "from sklearn.model_selection import train_test_split # Import train_test_split function\n",
    "from sklearn import metrics\n",
    "from sklearn.tree import export_graphviz\n",
    "from six import StringIO\n",
    "from IPython.display import Image  \n",
    "import pydotplus\n",
    "import matplotlib.pyplot as plt "
   ]
  },
  {
   "cell_type": "code",
   "execution_count": null,
   "id": "bded8613",
   "metadata": {},
   "outputs": [],
   "source": [
    "#Reading in Dataset\n",
    "df = pd.read_csv('BankChurners.csv')\n",
    "\n",
    "#Subsetting to needed columns\n",
    "df = df[df.columns[1:21]]\n",
    "\n",
    "#Changing Attrition_Flag column to 0s and 1s\n",
    "df['Attrition_Flag'] = df['Attrition_Flag'].map({'Existing Customer': 0, 'Attrited Customer': 1})\n",
    "\n",
    "#Dummy variables for all Categorical Data\n",
    "df = pd.get_dummies(df, columns=[\"Gender\", \"Education_Level\",\"Marital_Status\", \"Income_Category\", \"Card_Category\"])\n",
    "df.iloc[14:] = df.iloc[14:].astype(int)\n",
    "\n",
    "X = df.loc[:, df.columns != 'Attrition_Flag']\n",
    "y = df.loc[:, df.columns == 'Attrition_Flag']\n",
    "\n",
    "y = y.astype('int')\n",
    "\n"
   ]
  },
  {
   "cell_type": "code",
   "execution_count": null,
   "id": "419a4fe1",
   "metadata": {},
   "outputs": [],
   "source": [
    "# Creating Training and Testing Splits\n",
    "X_train, X_test, y_train, y_test = train_test_split(X, y, test_size=0.3)"
   ]
  },
  {
   "cell_type": "code",
   "execution_count": null,
   "id": "108cd364",
   "metadata": {},
   "outputs": [],
   "source": [
    "# Create Decision Tree classifer object\n",
    "clf = DecisionTreeClassifier()\n",
    "\n",
    "# Train Decision Tree Classifer\n",
    "clf = clf.fit(X_train,y_train)\n",
    "\n",
    "# Predicting Churn\n",
    "y_pred = clf.predict(X_test)"
   ]
  },
  {
   "cell_type": "code",
   "execution_count": null,
   "id": "7a9cfca7",
   "metadata": {},
   "outputs": [],
   "source": [
    "# Model Accuracy Metric\n",
    "print(\"Accuracy:\",metrics.accuracy_score(y_test, y_pred))"
   ]
  },
  {
   "cell_type": "code",
   "execution_count": null,
   "id": "83f3046f",
   "metadata": {},
   "outputs": [],
   "source": [
    "# Plotting the Tree\n",
    "dot_data = StringIO()\n",
    "export_graphviz(clf, out_file=dot_data,  \n",
    "                filled=True, rounded=True,\n",
    "                special_characters=True,feature_names = X.columns,class_names=['0','1'])\n",
    "graph = pydotplus.graph_from_dot_data(dot_data.getvalue())  \n",
    "graph.write_png('diabetes.png')\n",
    "Image(graph.create_png())"
   ]
  },
  {
   "cell_type": "code",
   "execution_count": null,
   "id": "3c092a68",
   "metadata": {},
   "outputs": [],
   "source": []
  },
  {
   "cell_type": "code",
   "execution_count": null,
   "id": "032e6d64",
   "metadata": {},
   "outputs": [],
   "source": [
    "#Creating a New, Simpler Tree"
   ]
  },
  {
   "cell_type": "code",
   "execution_count": null,
   "id": "7fec3f84",
   "metadata": {},
   "outputs": [],
   "source": [
    "# Create Decision Tree classifer object\n",
    "clf_simple = DecisionTreeClassifier(criterion=\"gini\", max_depth=3)\n",
    "\n",
    "# Train Decision Tree Classifer\n",
    "clf_simple = clf_simple.fit(X_train,y_train)\n",
    "\n",
    "#Predict Churn\n",
    "y_pred_simple = clf_simple.predict(X_test)\n",
    "\n",
    "# Model Metrics\n",
    "print(\"Accuracy:\",metrics.accuracy_score(y_test, y_pred_simple))\n",
    "print(\"Precision:\",metrics.precision_score(y_test, y_pred_simple))\n",
    "print(\"Recall:\",metrics.recall_score(y_test, y_pred_simple))"
   ]
  },
  {
   "cell_type": "code",
   "execution_count": null,
   "id": "072d7ce4",
   "metadata": {},
   "outputs": [],
   "source": [
    "#ROC Curve\n",
    "fpr, tpr, _ = metrics.roc_curve(y_test,  y_pred_simple)\n",
    "auc = metrics.roc_auc_score(y_test, y_pred_simple)\n",
    "plt.plot(fpr,tpr,label=\"data 1, auc=\"+str(auc))\n",
    "plt.legend(loc=4)\n",
    "plt.show()"
   ]
  },
  {
   "cell_type": "code",
   "execution_count": null,
   "id": "de73a2e1",
   "metadata": {},
   "outputs": [],
   "source": [
    "# Plotting the Simple Tree\n",
    "dot_data = StringIO()\n",
    "export_graphviz(clf_simple, out_file=dot_data,  \n",
    "                filled=True, rounded=True,\n",
    "                special_characters=True, feature_names = X.columns,class_names=['0','1'])\n",
    "graph = pydotplus.graph_from_dot_data(dot_data.getvalue())  \n",
    "graph.write_png('diabetes.png')\n",
    "Image(graph.create_png())"
   ]
  }
 ],
 "metadata": {
  "kernelspec": {
   "display_name": "Python 3 (ipykernel)",
   "language": "python",
   "name": "python3"
  },
  "language_info": {
   "codemirror_mode": {
    "name": "ipython",
    "version": 3
   },
   "file_extension": ".py",
   "mimetype": "text/x-python",
   "name": "python",
   "nbconvert_exporter": "python",
   "pygments_lexer": "ipython3",
   "version": "3.8.8"
  }
 },
 "nbformat": 4,
 "nbformat_minor": 5
}
