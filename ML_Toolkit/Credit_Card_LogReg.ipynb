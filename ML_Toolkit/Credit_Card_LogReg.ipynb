{
 "cells": [
  {
   "cell_type": "code",
   "execution_count": null,
   "id": "713d93ab",
   "metadata": {},
   "outputs": [],
   "source": [
    "#Importing Libraries\n",
    "import pandas as pd\n",
    "import numpy as np\n",
    "from sklearn import preprocessing\n",
    "import matplotlib.pyplot as plt \n",
    "plt.rc(\"font\", size=14)\n",
    "from sklearn.linear_model import LogisticRegression\n",
    "from sklearn.model_selection import train_test_split\n",
    "import seaborn as sns\n",
    "sns.set(style=\"white\")\n",
    "sns.set(style=\"whitegrid\", color_codes=True)\n",
    "from sklearn.feature_selection import RFE\n",
    "from sklearn.linear_model import LogisticRegression\n",
    "from sklearn import metrics\n",
    "from bioinfokit import visuz\n",
    "from sklearn.feature_selection import SelectKBest\n",
    "from sklearn.feature_selection import chi2"
   ]
  },
  {
   "cell_type": "code",
   "execution_count": null,
   "id": "7543c1f3",
   "metadata": {},
   "outputs": [],
   "source": [
    "#Reading in Dataset\n",
    "df = pd.read_csv('BankChurners.csv')\n",
    "\n",
    "#Subsetting to needed columns\n",
    "df = df[df.columns[1:21]]\n",
    "\n",
    "#Changing Attrition_Flag column to 0s and 1s\n",
    "df['Attrition_Flag'] = df['Attrition_Flag'].map({'Existing Customer': 0, 'Attrited Customer': 1})"
   ]
  },
  {
   "cell_type": "code",
   "execution_count": null,
   "id": "f1ee4b1c",
   "metadata": {},
   "outputs": [],
   "source": [
    "#EDA Viz\n",
    "sns.countplot(x='Attrition_Flag', data=df, palette='Paired')\n",
    "plt.show()"
   ]
  },
  {
   "cell_type": "code",
   "execution_count": null,
   "id": "11a895bb",
   "metadata": {},
   "outputs": [],
   "source": [
    "#Percent of Attrition\n",
    "count_no_sub = len(df[df['Attrition_Flag']==0])\n",
    "count_sub = len(df[df['Attrition_Flag']==1])\n",
    "pct_of_no_sub = count_no_sub/(count_no_sub+count_sub)\n",
    "print(\"percentage of no attrition is\", pct_of_no_sub*100)\n",
    "pct_of_sub = count_sub/(count_no_sub+count_sub)\n",
    "print(\"percentage of attrition is\", pct_of_sub*100)"
   ]
  },
  {
   "cell_type": "code",
   "execution_count": null,
   "id": "c1d424ae",
   "metadata": {},
   "outputs": [],
   "source": [
    "#EDA Viz\n",
    "%matplotlib inline\n",
    "pd.crosstab(df.Education_Level,df.Attrition_Flag).plot(kind='bar')\n",
    "plt.title('Attrition Frequency for Education Level')\n",
    "plt.xlabel('Education Level')\n",
    "plt.ylabel('Count')"
   ]
  },
  {
   "cell_type": "code",
   "execution_count": null,
   "id": "739a9cf5",
   "metadata": {},
   "outputs": [],
   "source": [
    "#EDA Viz\n",
    "%matplotlib inline\n",
    "pd.crosstab(df.Income_Category,df.Attrition_Flag).plot(kind='bar')\n",
    "plt.title('Attrition Frequency for Income Category')\n",
    "plt.xlabel('Income Category')\n",
    "plt.ylabel('Count')"
   ]
  },
  {
   "cell_type": "code",
   "execution_count": null,
   "id": "54b93cca",
   "metadata": {},
   "outputs": [],
   "source": [
    "#EDA Viz\n",
    "%matplotlib inline\n",
    "pd.crosstab(df.Card_Category,df.Attrition_Flag).plot(kind='bar')\n",
    "plt.title('Attrition Frequency for Card Category')\n",
    "plt.xlabel('Card Category')\n",
    "plt.ylabel('Count')"
   ]
  },
  {
   "cell_type": "code",
   "execution_count": null,
   "id": "019f4739",
   "metadata": {},
   "outputs": [],
   "source": [
    "#EDA Viz\n",
    "%matplotlib inline\n",
    "pd.crosstab(df.Gender,df.Attrition_Flag).plot(kind='bar')\n",
    "plt.title('Attrition Frequency for Gender')\n",
    "plt.xlabel('Gender')\n",
    "plt.ylabel('Count')"
   ]
  },
  {
   "cell_type": "code",
   "execution_count": null,
   "id": "3597399d",
   "metadata": {},
   "outputs": [],
   "source": [
    "#EDA Viz\n",
    "%matplotlib inline\n",
    "pd.crosstab(df.Marital_Status,df.Attrition_Flag).plot(kind='bar')\n",
    "plt.title('Attrition Frequency for Marital Status')\n",
    "plt.xlabel('Marital Status')\n",
    "plt.ylabel('Count')"
   ]
  },
  {
   "cell_type": "code",
   "execution_count": null,
   "id": "6b2ab597",
   "metadata": {},
   "outputs": [],
   "source": [
    "#EDA Viz\n",
    "df.Customer_Age.hist()\n",
    "plt.title('Histogram of Age')\n",
    "plt.xlabel('Age')\n",
    "plt.ylabel('Frequency')"
   ]
  },
  {
   "cell_type": "code",
   "execution_count": null,
   "id": "65999b25",
   "metadata": {},
   "outputs": [],
   "source": [
    "#One Hot Encoding for Categorical Variables\n",
    "df = pd.get_dummies(df, columns=[\"Gender\", \"Education_Level\",\"Marital_Status\", \"Income_Category\", \"Card_Category\"])\n",
    "df.iloc[14:] = df.iloc[14:].astype(int)"
   ]
  },
  {
   "cell_type": "code",
   "execution_count": null,
   "id": "43a9ca1c",
   "metadata": {},
   "outputs": [],
   "source": [
    "#Creating Predictor and Resposne DFs\n",
    "X = df.loc[:, df.columns != 'Attrition_Flag']\n",
    "y = df.loc[:, df.columns == 'Attrition_Flag']\n",
    "\n",
    "y = y.astype('int')"
   ]
  },
  {
   "cell_type": "code",
   "execution_count": null,
   "id": "e75509a1",
   "metadata": {},
   "outputs": [],
   "source": [
    "#Creating Test and Train splits\n",
    "X_train,X_test,y_train,y_test=train_test_split(X,y,test_size=0.25,random_state=0)"
   ]
  },
  {
   "cell_type": "code",
   "execution_count": null,
   "id": "a3bf4380",
   "metadata": {},
   "outputs": [],
   "source": [
    "# initiate the model\n",
    "logreg = LogisticRegression(max_iter = 1000)\n",
    "\n",
    "# fitting the model\n",
    "model = logreg.fit(X_train,y_train.values.ravel())\n",
    "\n",
    "# response predictions\n",
    "y_pred=logreg.predict(X_test)"
   ]
  },
  {
   "cell_type": "code",
   "execution_count": null,
   "id": "0c3de417",
   "metadata": {},
   "outputs": [],
   "source": [
    "#Confusion Matrix\n",
    "cnf_matrix = metrics.confusion_matrix(y_test, y_pred)\n",
    "cnf_matrix"
   ]
  },
  {
   "cell_type": "code",
   "execution_count": null,
   "id": "4ee0afe1",
   "metadata": {},
   "outputs": [],
   "source": [
    "#Confusion Matrix Visualization\n",
    "class_names=[0,1] # name  of classes\n",
    "fig, ax = plt.subplots()\n",
    "tick_marks = np.arange(len(class_names))\n",
    "plt.xticks(tick_marks, class_names)\n",
    "plt.yticks(tick_marks, class_names)\n",
    "\n",
    "# create heatmap\n",
    "sns.heatmap(pd.DataFrame(cnf_matrix), annot=True, cmap=\"YlGnBu\" ,fmt='g')\n",
    "ax.xaxis.set_label_position(\"top\")\n",
    "plt.tight_layout()\n",
    "plt.title('Confusion matrix', y=1.1)\n",
    "plt.ylabel('Actual label')\n",
    "plt.xlabel('Predicted label')"
   ]
  },
  {
   "cell_type": "code",
   "execution_count": null,
   "id": "82bea41b",
   "metadata": {},
   "outputs": [],
   "source": [
    "#Performance Measures\n",
    "print(\"Accuracy:\",metrics.accuracy_score(y_test, y_pred))\n",
    "print(\"Precision:\",metrics.precision_score(y_test, y_pred))\n",
    "print(\"Recall:\",metrics.recall_score(y_test, y_pred))"
   ]
  },
  {
   "cell_type": "code",
   "execution_count": null,
   "id": "ab6caa3d",
   "metadata": {},
   "outputs": [],
   "source": [
    "#ROC Curve\n",
    "y_pred_proba = logreg.predict_proba(X_test)[::,1]\n",
    "fpr, tpr, _ = metrics.roc_curve(y_test,  y_pred_proba)\n",
    "auc = metrics.roc_auc_score(y_test, y_pred_proba)\n",
    "plt.plot(fpr,tpr,label=\"data 1, auc=\"+str(auc))\n",
    "plt.legend(loc=4)\n",
    "plt.show()"
   ]
  },
  {
   "cell_type": "code",
   "execution_count": null,
   "id": "bfb30cb7",
   "metadata": {},
   "outputs": [],
   "source": [
    "# Extracting Model Coefficients\n",
    "log_odds = model.coef_[0]\n",
    "\n",
    "pd.DataFrame(log_odds, \n",
    "             X.columns, \n",
    "             columns=['coef'])\\\n",
    "            .sort_values(by='coef', ascending=False)"
   ]
  }
 ],
 "metadata": {
  "kernelspec": {
   "display_name": "Python 3 (ipykernel)",
   "language": "python",
   "name": "python3"
  },
  "language_info": {
   "codemirror_mode": {
    "name": "ipython",
    "version": 3
   },
   "file_extension": ".py",
   "mimetype": "text/x-python",
   "name": "python",
   "nbconvert_exporter": "python",
   "pygments_lexer": "ipython3",
   "version": "3.8.8"
  }
 },
 "nbformat": 4,
 "nbformat_minor": 5
}
