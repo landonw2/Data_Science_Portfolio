{
 "cells": [
  {
   "cell_type": "code",
   "execution_count": null,
   "id": "6f815c84",
   "metadata": {},
   "outputs": [],
   "source": [
    "import pandas as pd\n",
    "import numpy as np\n",
    "from sklearn.model_selection import train_test_split\n",
    "from sklearn.ensemble import RandomForestClassifier\n",
    "from sklearn import metrics\n",
    "import matplotlib.pyplot as plt\n",
    "import seaborn as sns\n",
    "from matplotlib import rcParams\n",
    "from sklearn.metrics import mean_squared_error\n",
    "from matplotlib.legend_handler import HandlerLine2D\n",
    "from sklearn.inspection import PartialDependenceDisplay"
   ]
  },
  {
   "cell_type": "code",
   "execution_count": null,
   "id": "4242e06b",
   "metadata": {},
   "outputs": [],
   "source": [
    "#Reading in Dataset\n",
    "df = pd.read_csv('BankChurners.csv')\n",
    "\n",
    "#Subsetting to needed columns\n",
    "df = df[df.columns[1:21]]\n",
    "\n",
    "#Changing Attrition_Flag column to 0s and 1s\n",
    "df['Attrition_Flag'] = df['Attrition_Flag'].map({'Existing Customer': 0, 'Attrited Customer': 1})\n",
    "\n",
    "#Dummy variables for all Categorical Data\n",
    "df = pd.get_dummies(df, columns=[\"Gender\", \"Education_Level\",\"Marital_Status\", \"Income_Category\", \"Card_Category\"])\n",
    "df.iloc[14:] = df.iloc[14:].astype(int)"
   ]
  },
  {
   "cell_type": "code",
   "execution_count": null,
   "id": "73534fb7",
   "metadata": {},
   "outputs": [],
   "source": [
    "#Creating Training/Split Sets\n",
    "X = df.loc[:, df.columns != 'Attrition_Flag']\n",
    "y = df.loc[:, df.columns == 'Attrition_Flag']\n",
    "\n",
    "y = y.astype('int')\n",
    "\n",
    "X_train, X_test, y_train, y_test = train_test_split(X, y, test_size=0.3) # 70% training and 30% test"
   ]
  },
  {
   "cell_type": "code",
   "execution_count": null,
   "id": "daa692cb",
   "metadata": {},
   "outputs": [],
   "source": [
    "#Create a Gaussian Classifier\n",
    "clf=RandomForestClassifier(n_estimators=100)\n",
    "\n",
    "#Training the Model\n",
    "clf.fit(X_train,y_train.values.ravel())\n",
    "\n",
    "y_pred=clf.predict(X_test)"
   ]
  },
  {
   "cell_type": "code",
   "execution_count": null,
   "id": "7555970f",
   "metadata": {},
   "outputs": [],
   "source": [
    "# Model Accuracy, how often is the classifier correct?\n",
    "print(\"Accuracy:\",metrics.accuracy_score(y_test, y_pred))\n",
    "print(\"Precision:\",metrics.precision_score(y_test, y_pred))\n",
    "print(\"Recall:\",metrics.recall_score(y_test, y_pred))"
   ]
  },
  {
   "cell_type": "code",
   "execution_count": null,
   "id": "051a56db",
   "metadata": {},
   "outputs": [],
   "source": [
    "#New Data Prediction\n",
    "clf.predict([[27, 1, 12, 1, 0, 1, 8000, 150, 7850, .2, 3500, 52, .3, .45, 0, 1, 0, 0, 1, 0, 0, 0, 0, 0, 1, 0, 0, 0, 0, 0, 1, 0, 0, 0, 0, 0, 1]])"
   ]
  },
  {
   "cell_type": "code",
   "execution_count": null,
   "id": "42692597",
   "metadata": {},
   "outputs": [],
   "source": [
    "#Caclulating Most Important Features\n",
    "feature_imp = pd.Series(clf.feature_importances_, X.columns).sort_values(ascending=False)\n",
    "feature_imp"
   ]
  },
  {
   "cell_type": "code",
   "execution_count": null,
   "id": "49b83592",
   "metadata": {},
   "outputs": [],
   "source": [
    "%matplotlib inline\n",
    "\n",
    "# Creating a bar plot\n",
    "rcParams['figure.figsize'] = 15,10\n",
    "sns.barplot(x=feature_imp, y=feature_imp.index)\n",
    "# Add labels to your graph\n",
    "plt.xlabel('Feature Importance Score')\n",
    "plt.ylabel('Features')\n",
    "plt.title(\"Visualizing Important Features\")\n",
    "plt.show()"
   ]
  },
  {
   "cell_type": "code",
   "execution_count": null,
   "id": "906da9d4",
   "metadata": {},
   "outputs": [],
   "source": [
    "# Creating New Random Forest Model with a Random Variable Included"
   ]
  },
  {
   "cell_type": "code",
   "execution_count": null,
   "id": "352a7632",
   "metadata": {},
   "outputs": [],
   "source": [
    "# New Dataframe\n",
    "df_random = df"
   ]
  },
  {
   "cell_type": "code",
   "execution_count": null,
   "id": "3e8be80f",
   "metadata": {},
   "outputs": [],
   "source": [
    "# Creating Random Variable\n",
    "df_random['random'] = np.random.randint(1, 100, df_random.shape[0])"
   ]
  },
  {
   "cell_type": "code",
   "execution_count": null,
   "id": "62562227",
   "metadata": {},
   "outputs": [],
   "source": [
    "# Train/Test Split\n",
    "X_rand = df.loc[:, df_random.columns != 'Attrition_Flag']\n",
    "y_rand = df.loc[:, df_random.columns == 'Attrition_Flag']\n",
    "\n",
    "y_rand = y_rand.astype('int')\n",
    "\n",
    "X_train_rand, X_test_rand, y_train_rand, y_test_rand = train_test_split(X_rand, y_rand, test_size=0.3)"
   ]
  },
  {
   "cell_type": "code",
   "execution_count": null,
   "id": "470dcac1",
   "metadata": {},
   "outputs": [],
   "source": [
    "#Create a Gaussian Classifier\n",
    "clf_rand=RandomForestClassifier(n_estimators=500)\n",
    "\n",
    "#Training the Model\n",
    "clf_rand.fit(X_train_rand,y_train_rand.values.ravel())\n",
    "\n",
    "y_pred_rand=clf_rand.predict(X_test_rand)"
   ]
  },
  {
   "cell_type": "code",
   "execution_count": null,
   "id": "053748d0",
   "metadata": {},
   "outputs": [],
   "source": [
    "# Feature Importance with Random Variable\n",
    "feature_imp_rand = pd.Series(clf_rand.feature_importances_, X_rand.columns).sort_values(ascending=False)\n",
    "feature_imp_rand"
   ]
  },
  {
   "cell_type": "code",
   "execution_count": null,
   "id": "9124c138",
   "metadata": {},
   "outputs": [],
   "source": [
    "%matplotlib inline\n",
    "\n",
    "# Creating a bar plot\n",
    "rcParams['figure.figsize'] = 15,10\n",
    "sns.barplot(x=feature_imp_rand, y=feature_imp_rand.index)\n",
    "\n",
    "# Adding Labels\n",
    "plt.xlabel('Feature Importance Score')\n",
    "plt.ylabel('Features')\n",
    "plt.title(\"Visualizing Important Features\")\n",
    "plt.show()"
   ]
  },
  {
   "cell_type": "code",
   "execution_count": null,
   "id": "e36ce689",
   "metadata": {},
   "outputs": [],
   "source": [
    "# Creating New Random Forest Model with only features that did better than Random Variable"
   ]
  },
  {
   "cell_type": "code",
   "execution_count": null,
   "id": "1942293b",
   "metadata": {},
   "outputs": [],
   "source": [
    "# New Dataframe\n",
    "df_2 = df"
   ]
  },
  {
   "cell_type": "code",
   "execution_count": null,
   "id": "2458de49",
   "metadata": {},
   "outputs": [],
   "source": [
    "# Only Keeping Variables that did better than random\n",
    "df_2 = df_2[[\"Attrition_Flag\", \"Total_Trans_Amt\", \"Total_Trans_Ct\", \"Total_Revolving_Bal\", \"Total_Relationship_Count\", \"Credit_Limit\", \"Avg_Open_To_Buy\", \"Customer_Age\", \"Contacts_Count_12_mon\", \"Months_on_book\"]]"
   ]
  },
  {
   "cell_type": "code",
   "execution_count": null,
   "id": "2e6f7dc9",
   "metadata": {},
   "outputs": [],
   "source": [
    "# Test/Train Split\n",
    "X_2 = df_2.loc[:, df_2.columns != 'Attrition_Flag']\n",
    "y_2 = df_2.loc[:, df_2.columns == 'Attrition_Flag']\n",
    "\n",
    "y_2 = y_2.astype('int')\n",
    "\n",
    "X_train_2, X_test_2, y_train_2, y_test_2 = train_test_split(X_2, y_2, test_size=0.3) # 70% training and 30% test"
   ]
  },
  {
   "cell_type": "code",
   "execution_count": null,
   "id": "34bd30be",
   "metadata": {},
   "outputs": [],
   "source": [
    "#Create a Gaussian Classifier\n",
    "clf_2=RandomForestClassifier(n_estimators=100)\n",
    "\n",
    "#Training the Model\n",
    "clf_2.fit(X_train_2,y_train_2.values.ravel())\n",
    "\n",
    "y_pred_2=clf_2.predict(X_test_2)"
   ]
  },
  {
   "cell_type": "code",
   "execution_count": null,
   "id": "16c28a75",
   "metadata": {},
   "outputs": [],
   "source": [
    "# Model Metrics\n",
    "print(\"Accuracy:\",metrics.accuracy_score(y_test_2, y_pred_2))\n",
    "print(\"Precision:\",metrics.precision_score(y_test_2, y_pred_2))\n",
    "print(\"Recall:\",metrics.recall_score(y_test_2, y_pred_2))"
   ]
  },
  {
   "cell_type": "code",
   "execution_count": null,
   "id": "177d42ac",
   "metadata": {},
   "outputs": [],
   "source": [
    "# Feature Importance\n",
    "feature_imp_2 = pd.Series(clf_2.feature_importances_, X_2.columns).sort_values(ascending=False)\n",
    "feature_imp_2"
   ]
  },
  {
   "cell_type": "code",
   "execution_count": null,
   "id": "bb4827fa",
   "metadata": {},
   "outputs": [],
   "source": [
    "%matplotlib inline\n",
    "\n",
    "# Creating a bar plot\n",
    "rcParams['figure.figsize'] = 15,10\n",
    "sns.barplot(x=feature_imp_2, y=feature_imp_2.index)\n",
    "\n",
    "# Adding labels\n",
    "plt.xlabel('Feature Importance Score')\n",
    "plt.ylabel('Features')\n",
    "plt.title(\"Visualizing Important Features\")\n",
    "plt.show()"
   ]
  },
  {
   "cell_type": "code",
   "execution_count": null,
   "id": "cba6cc1c",
   "metadata": {},
   "outputs": [],
   "source": [
    "#ROC Curve\n",
    "fpr, tpr, _ = metrics.roc_curve(y_test_2,  y_pred_2)\n",
    "auc = metrics.roc_auc_score(y_test_2, y_pred_2)\n",
    "plt.plot(fpr,tpr,label=\"data 1, auc=\"+str(auc))\n",
    "plt.legend(loc=4)\n",
    "plt.show()"
   ]
  }
 ],
 "metadata": {
  "kernelspec": {
   "display_name": "Python 3 (ipykernel)",
   "language": "python",
   "name": "python3"
  },
  "language_info": {
   "codemirror_mode": {
    "name": "ipython",
    "version": 3
   },
   "file_extension": ".py",
   "mimetype": "text/x-python",
   "name": "python",
   "nbconvert_exporter": "python",
   "pygments_lexer": "ipython3",
   "version": "3.8.8"
  }
 },
 "nbformat": 4,
 "nbformat_minor": 5
}
