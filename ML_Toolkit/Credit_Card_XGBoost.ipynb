{
 "cells": [
  {
   "cell_type": "code",
   "execution_count": null,
   "id": "7c34cb57",
   "metadata": {},
   "outputs": [],
   "source": [
    "#Importing Libraries\n",
    "import xgboost as xgb\n",
    "from sklearn.metrics import mean_squared_error\n",
    "import pandas as pd\n",
    "import numpy as np\n",
    "from sklearn.model_selection import train_test_split\n",
    "import matplotlib.pyplot as plt\n",
    "from xgboost import XGBClassifier\n",
    "from sklearn.impute import SimpleImputer\n",
    "from sklearn.pipeline import Pipeline\n",
    "from sklearn.preprocessing import OneHotEncoder\n",
    "from sklearn.preprocessing import StandardScaler\n",
    "from sklearn.compose import ColumnTransformer\n",
    "from sklearn.metrics import accuracy_score\n",
    "from sklearn.model_selection import GridSearchCV\n",
    "from sklearn.metrics import roc_auc_score\n",
    "from sklearn import metrics"
   ]
  },
  {
   "cell_type": "code",
   "execution_count": null,
   "id": "8881fa6f",
   "metadata": {},
   "outputs": [],
   "source": [
    "#Reading in Dataset\n",
    "df = pd.read_csv('BankChurners.csv')\n",
    "\n",
    "#Subsetting to needed columns\n",
    "df = df[df.columns[1:21]]\n",
    "\n",
    "#Changing Attrition_Flag column to 0s and 1s\n",
    "df['Attrition_Flag'] = df['Attrition_Flag'].map({'Existing Customer': 0, 'Attrited Customer': 1})"
   ]
  },
  {
   "cell_type": "code",
   "execution_count": null,
   "id": "b3cc89d3",
   "metadata": {},
   "outputs": [],
   "source": [
    "#Creating Target Array\n",
    "X = df.drop('Attrition_Flag', axis=1)\n",
    "y = df.Attrition_Flag"
   ]
  },
  {
   "cell_type": "code",
   "execution_count": null,
   "id": "f8931e3a",
   "metadata": {},
   "outputs": [],
   "source": [
    "#Creating a categorical class that transforms to one hot encoding \n",
    "categorical_pipeline = Pipeline(\n",
    "    steps=[\n",
    "        (\"impute\", SimpleImputer(strategy=\"most_frequent\")),\n",
    "        (\"oh-encode\", OneHotEncoder(handle_unknown=\"ignore\", sparse=False)),\n",
    "    ]\n",
    ")"
   ]
  },
  {
   "cell_type": "code",
   "execution_count": null,
   "id": "285e479e",
   "metadata": {},
   "outputs": [],
   "source": [
    "#Creating a numerical class that imputs means for missing values\n",
    "numeric_pipeline = Pipeline(\n",
    "    steps=[(\"impute\", SimpleImputer(strategy=\"mean\")), \n",
    "           (\"scale\", StandardScaler())]\n",
    ")"
   ]
  },
  {
   "cell_type": "code",
   "execution_count": null,
   "id": "42390015",
   "metadata": {},
   "outputs": [],
   "source": [
    "#Separating Categorical and Numeric data types\n",
    "cat_cols = X.select_dtypes(exclude=\"number\").columns\n",
    "num_cols = X.select_dtypes(include=\"number\").columns"
   ]
  },
  {
   "cell_type": "code",
   "execution_count": null,
   "id": "ad2a6e13",
   "metadata": {},
   "outputs": [],
   "source": [
    "#Creating Class that Transofrms Numeric and Categorical Variables using classes above\n",
    "full_processor = ColumnTransformer(\n",
    "    transformers=[\n",
    "        (\"numeric\", numeric_pipeline, num_cols),\n",
    "        (\"categorical\", categorical_pipeline, cat_cols),\n",
    "    ]\n",
    ")"
   ]
  },
  {
   "cell_type": "code",
   "execution_count": null,
   "id": "c042a4fa",
   "metadata": {},
   "outputs": [],
   "source": [
    "# Apply preprocessing\n",
    "\n",
    "# Using Full Processor for Predictor Variables\n",
    "X_processed = full_processor.fit_transform(X)\n",
    "\n",
    "# Imputing mode for Target Variable\n",
    "y_processed = SimpleImputer(strategy=\"most_frequent\").fit_transform(\n",
    "    y.values.reshape(-1, 1)\n",
    ")\n",
    "\n",
    "\n",
    "# Splitting data \n",
    "X_train, X_test, y_train, y_test = train_test_split(\n",
    "    X_processed, y_processed, stratify=y_processed, random_state=219\n",
    ")"
   ]
  },
  {
   "cell_type": "code",
   "execution_count": null,
   "id": "ed48d4e5",
   "metadata": {},
   "outputs": [],
   "source": [
    "#Tuning XGBoost Model with all Default parameters\n",
    "\n",
    "# Initiate classifier\n",
    "xgb_cl = xgb.XGBClassifier()\n",
    "\n",
    "# Fit\n",
    "xgb_cl.fit(X_train, y_train)\n",
    "\n",
    "# Predict\n",
    "preds = xgb_cl.predict(X_test)\n",
    "\n",
    "# Score\n",
    "accuracy_score(y_test, preds)"
   ]
  },
  {
   "cell_type": "code",
   "execution_count": null,
   "id": "56f395bb",
   "metadata": {},
   "outputs": [],
   "source": [
    "#Tuning Model\n",
    "param_grid = {\n",
    "    \"max_depth\": [3, 4, 5, 7],\n",
    "    \"learning_rate\": [0.1, 0.01, 0.05],\n",
    "    \"gamma\": [0, 0.25, 1],\n",
    "    \"reg_lambda\": [0, 1, 10],\n",
    "    \"scale_pos_weight\": [1, 3, 5],\n",
    "    \"subsample\": [0.8],\n",
    "    \"colsample_bytree\": [0.5],\n",
    "}"
   ]
  },
  {
   "cell_type": "code",
   "execution_count": null,
   "id": "e78be665",
   "metadata": {},
   "outputs": [],
   "source": [
    "# Initiate classifier\n",
    "xgb_cl = xgb.XGBClassifier(objective=\"binary:logistic\")\n",
    "\n",
    "# Initiate Grid Search from Param_Grid tuning above\n",
    "grid_cv = GridSearchCV(xgb_cl, param_grid, n_jobs=-1, cv=3, scoring=\"roc_auc\")\n",
    "\n",
    "# Fit\n",
    "_ = grid_cv.fit(X_processed, y_processed)"
   ]
  },
  {
   "cell_type": "code",
   "execution_count": null,
   "id": "8172ca75",
   "metadata": {},
   "outputs": [],
   "source": [
    "# AUROC Score for 2nd model\n",
    "grid_cv.best_score_"
   ]
  },
  {
   "cell_type": "code",
   "execution_count": null,
   "id": "1cb34500",
   "metadata": {},
   "outputs": [],
   "source": [
    "# Checking best parameters to Tune next model\n",
    "grid_cv.best_params_"
   ]
  },
  {
   "cell_type": "code",
   "execution_count": null,
   "id": "d5e6f868",
   "metadata": {},
   "outputs": [],
   "source": [
    "# Insert the new fixed values to the grid\n",
    "param_grid[\"scale_pos_weight\"] = [.25, .5, .75, 1]\n",
    "param_grid[\"subsample\"] = [0.8]\n",
    "param_grid[\"colsample_bytree\"] = [0.5]\n",
    "\n",
    "# Give new value ranges to other params\n",
    "param_grid[\"gamma\"] = [3, 5, 7]\n",
    "param_grid[\"max_depth\"] = [9, 15, 20]\n",
    "param_grid[\"reg_lambda\"] = [0]\n",
    "param_grid[\"learning_rate\"] = [0.1, 0.3, 0.6, 1]"
   ]
  },
  {
   "cell_type": "code",
   "execution_count": null,
   "id": "b052a1ba",
   "metadata": {},
   "outputs": [],
   "source": [
    "#Creating new model with new tuning parameters\n",
    "grid_cv_2 = GridSearchCV(xgb_cl, param_grid, \n",
    "                         cv=3, scoring=\"roc_auc\")\n",
    "\n",
    "_ = grid_cv_2.fit(X_processed, y_processed)"
   ]
  },
  {
   "cell_type": "code",
   "execution_count": null,
   "id": "c2f6ad37",
   "metadata": {},
   "outputs": [],
   "source": [
    "# AUROC Score for 3rd model\n",
    "grid_cv_2.best_score_"
   ]
  },
  {
   "cell_type": "code",
   "execution_count": null,
   "id": "8a2a87df",
   "metadata": {},
   "outputs": [],
   "source": [
    "# Final Model\n",
    "final_cl = xgb.XGBClassifier(\n",
    "    **grid_cv.best_params_,\n",
    "    bjective=\"binary:logistic\"\n",
    ")\n",
    "\n",
    "_ = final_cl.fit(X_train, y_train)"
   ]
  },
  {
   "cell_type": "code",
   "execution_count": null,
   "id": "33c9ca39",
   "metadata": {},
   "outputs": [],
   "source": [
    "#Accuracy Score. Not much better than original, simple model.\n",
    "# Fit\n",
    "final_cl.fit(X_train, y_train)\n",
    "\n",
    "# Predict\n",
    "preds = final_cl.predict(X_test)\n",
    "\n",
    "# Score\n",
    "accuracy_score(y_test, preds)"
   ]
  },
  {
   "cell_type": "code",
   "execution_count": null,
   "id": "dd56f3c5",
   "metadata": {},
   "outputs": [],
   "source": [
    "# Model Metrics\n",
    "print(\"Accuracy:\",metrics.accuracy_score(y_test, preds))\n",
    "print(\"Precision:\",metrics.precision_score(y_test, preds))\n",
    "print(\"Recall:\",metrics.recall_score(y_test, preds))"
   ]
  },
  {
   "cell_type": "code",
   "execution_count": null,
   "id": "7899499a",
   "metadata": {},
   "outputs": [],
   "source": [
    "#ROC Curve\n",
    "fpr, tpr, _ = metrics.roc_curve(y_test,  preds)\n",
    "auc = metrics.roc_auc_score(y_test, preds)\n",
    "plt.plot(fpr,tpr,label=\"data 1, auc=\"+str(auc))\n",
    "plt.legend(loc=4)\n",
    "plt.show()"
   ]
  }
 ],
 "metadata": {
  "kernelspec": {
   "display_name": "Python 3 (ipykernel)",
   "language": "python",
   "name": "python3"
  },
  "language_info": {
   "codemirror_mode": {
    "name": "ipython",
    "version": 3
   },
   "file_extension": ".py",
   "mimetype": "text/x-python",
   "name": "python",
   "nbconvert_exporter": "python",
   "pygments_lexer": "ipython3",
   "version": "3.8.8"
  }
 },
 "nbformat": 4,
 "nbformat_minor": 5
}
